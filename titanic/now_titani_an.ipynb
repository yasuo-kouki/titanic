{
 "cells": [
  {
   "cell_type": "code",
   "execution_count": 1,
   "metadata": {},
   "outputs": [],
   "source": [
    "import pandas as pd\n",
    "import numpy as np"
   ]
  },
  {
   "cell_type": "markdown",
   "metadata": {},
   "source": [
    "データの読み込み"
   ]
  },
  {
   "cell_type": "code",
   "execution_count": 2,
   "metadata": {},
   "outputs": [],
   "source": [
    "train = pd.read_csv('data/train.csv')\n",
    "test = pd.read_csv('data/test.csv')"
   ]
  },
  {
   "cell_type": "code",
   "execution_count": 3,
   "metadata": {},
   "outputs": [
    {
     "data": {
      "text/html": [
       "<div>\n",
       "<style scoped>\n",
       "    .dataframe tbody tr th:only-of-type {\n",
       "        vertical-align: middle;\n",
       "    }\n",
       "\n",
       "    .dataframe tbody tr th {\n",
       "        vertical-align: top;\n",
       "    }\n",
       "\n",
       "    .dataframe thead th {\n",
       "        text-align: right;\n",
       "    }\n",
       "</style>\n",
       "<table border=\"1\" class=\"dataframe\">\n",
       "  <thead>\n",
       "    <tr style=\"text-align: right;\">\n",
       "      <th></th>\n",
       "      <th>PassengerId</th>\n",
       "      <th>Survived</th>\n",
       "      <th>Pclass</th>\n",
       "      <th>Name</th>\n",
       "      <th>Sex</th>\n",
       "      <th>Age</th>\n",
       "      <th>SibSp</th>\n",
       "      <th>Parch</th>\n",
       "      <th>Ticket</th>\n",
       "      <th>Fare</th>\n",
       "      <th>Cabin</th>\n",
       "      <th>Embarked</th>\n",
       "    </tr>\n",
       "  </thead>\n",
       "  <tbody>\n",
       "    <tr>\n",
       "      <th>0</th>\n",
       "      <td>1</td>\n",
       "      <td>0</td>\n",
       "      <td>3</td>\n",
       "      <td>Braund, Mr. Owen Harris</td>\n",
       "      <td>male</td>\n",
       "      <td>22.0</td>\n",
       "      <td>1</td>\n",
       "      <td>0</td>\n",
       "      <td>A/5 21171</td>\n",
       "      <td>7.2500</td>\n",
       "      <td>NaN</td>\n",
       "      <td>S</td>\n",
       "    </tr>\n",
       "    <tr>\n",
       "      <th>1</th>\n",
       "      <td>2</td>\n",
       "      <td>1</td>\n",
       "      <td>1</td>\n",
       "      <td>Cumings, Mrs. John Bradley (Florence Briggs Th...</td>\n",
       "      <td>female</td>\n",
       "      <td>38.0</td>\n",
       "      <td>1</td>\n",
       "      <td>0</td>\n",
       "      <td>PC 17599</td>\n",
       "      <td>71.2833</td>\n",
       "      <td>C85</td>\n",
       "      <td>C</td>\n",
       "    </tr>\n",
       "    <tr>\n",
       "      <th>2</th>\n",
       "      <td>3</td>\n",
       "      <td>1</td>\n",
       "      <td>3</td>\n",
       "      <td>Heikkinen, Miss. Laina</td>\n",
       "      <td>female</td>\n",
       "      <td>26.0</td>\n",
       "      <td>0</td>\n",
       "      <td>0</td>\n",
       "      <td>STON/O2. 3101282</td>\n",
       "      <td>7.9250</td>\n",
       "      <td>NaN</td>\n",
       "      <td>S</td>\n",
       "    </tr>\n",
       "    <tr>\n",
       "      <th>3</th>\n",
       "      <td>4</td>\n",
       "      <td>1</td>\n",
       "      <td>1</td>\n",
       "      <td>Futrelle, Mrs. Jacques Heath (Lily May Peel)</td>\n",
       "      <td>female</td>\n",
       "      <td>35.0</td>\n",
       "      <td>1</td>\n",
       "      <td>0</td>\n",
       "      <td>113803</td>\n",
       "      <td>53.1000</td>\n",
       "      <td>C123</td>\n",
       "      <td>S</td>\n",
       "    </tr>\n",
       "    <tr>\n",
       "      <th>4</th>\n",
       "      <td>5</td>\n",
       "      <td>0</td>\n",
       "      <td>3</td>\n",
       "      <td>Allen, Mr. William Henry</td>\n",
       "      <td>male</td>\n",
       "      <td>35.0</td>\n",
       "      <td>0</td>\n",
       "      <td>0</td>\n",
       "      <td>373450</td>\n",
       "      <td>8.0500</td>\n",
       "      <td>NaN</td>\n",
       "      <td>S</td>\n",
       "    </tr>\n",
       "  </tbody>\n",
       "</table>\n",
       "</div>"
      ],
      "text/plain": [
       "   PassengerId  Survived  Pclass  \\\n",
       "0            1         0       3   \n",
       "1            2         1       1   \n",
       "2            3         1       3   \n",
       "3            4         1       1   \n",
       "4            5         0       3   \n",
       "\n",
       "                                                Name     Sex   Age  SibSp  \\\n",
       "0                            Braund, Mr. Owen Harris    male  22.0      1   \n",
       "1  Cumings, Mrs. John Bradley (Florence Briggs Th...  female  38.0      1   \n",
       "2                             Heikkinen, Miss. Laina  female  26.0      0   \n",
       "3       Futrelle, Mrs. Jacques Heath (Lily May Peel)  female  35.0      1   \n",
       "4                           Allen, Mr. William Henry    male  35.0      0   \n",
       "\n",
       "   Parch            Ticket     Fare Cabin Embarked  \n",
       "0      0         A/5 21171   7.2500   NaN        S  \n",
       "1      0          PC 17599  71.2833   C85        C  \n",
       "2      0  STON/O2. 3101282   7.9250   NaN        S  \n",
       "3      0            113803  53.1000  C123        S  \n",
       "4      0            373450   8.0500   NaN        S  "
      ]
     },
     "execution_count": 3,
     "metadata": {},
     "output_type": "execute_result"
    }
   ],
   "source": [
    "train.head()"
   ]
  },
  {
   "cell_type": "markdown",
   "metadata": {},
   "source": [
    "学習データを特徴量と目的変数に分ける"
   ]
  },
  {
   "cell_type": "code",
   "execution_count": 4,
   "metadata": {},
   "outputs": [],
   "source": [
    "train_x = train.drop(['Survived'],axis=1)\n",
    "train_y = train['Survived']\n",
    "\n",
    "#テストデータは特徴量のみなのでそのまま\n",
    "test_x = test.copy()"
   ]
  },
  {
   "cell_type": "markdown",
   "metadata": {},
   "source": [
    "データの揺れ(型)を確認する"
   ]
  },
  {
   "cell_type": "code",
   "execution_count": 5,
   "metadata": {},
   "outputs": [
    {
     "data": {
      "text/plain": [
       "PassengerId      int64\n",
       "Pclass           int64\n",
       "Name            object\n",
       "Sex             object\n",
       "Age            float64\n",
       "SibSp            int64\n",
       "Parch            int64\n",
       "Ticket          object\n",
       "Fare           float64\n",
       "Cabin           object\n",
       "Embarked        object\n",
       "dtype: object"
      ]
     },
     "execution_count": 5,
     "metadata": {},
     "output_type": "execute_result"
    }
   ],
   "source": [
    "train_x.dtypes"
   ]
  },
  {
   "cell_type": "markdown",
   "metadata": {},
   "source": [
    "データの欠損値の確認をする"
   ]
  },
  {
   "cell_type": "code",
   "execution_count": 6,
   "metadata": {},
   "outputs": [
    {
     "data": {
      "text/plain": [
       "PassengerId      0\n",
       "Pclass           0\n",
       "Name             0\n",
       "Sex              0\n",
       "Age            177\n",
       "SibSp            0\n",
       "Parch            0\n",
       "Ticket           0\n",
       "Fare             0\n",
       "Cabin          687\n",
       "Embarked         2\n",
       "dtype: int64"
      ]
     },
     "execution_count": 6,
     "metadata": {},
     "output_type": "execute_result"
    }
   ],
   "source": [
    "train_x.isnull().sum()"
   ]
  },
  {
   "cell_type": "code",
   "execution_count": 7,
   "metadata": {},
   "outputs": [
    {
     "data": {
      "text/plain": [
       "PassengerId      0\n",
       "Pclass           0\n",
       "Name             0\n",
       "Sex              0\n",
       "Age             86\n",
       "SibSp            0\n",
       "Parch            0\n",
       "Ticket           0\n",
       "Fare             1\n",
       "Cabin          327\n",
       "Embarked         0\n",
       "dtype: int64"
      ]
     },
     "execution_count": 7,
     "metadata": {},
     "output_type": "execute_result"
    }
   ],
   "source": [
    "test_x.isnull().sum()"
   ]
  },
  {
   "cell_type": "markdown",
   "metadata": {},
   "source": [
    "####  変数の削除をする"
   ]
  },
  {
   "cell_type": "code",
   "execution_count": 8,
   "metadata": {},
   "outputs": [],
   "source": [
    "#変数PassengeerIdを削除する\n",
    "train_x = train_x.drop(['PassengerId'],axis=1)\n",
    "test_x = test_x.drop(['PassengerId'],axis=1)"
   ]
  },
  {
   "cell_type": "markdown",
   "metadata": {},
   "source": [
    "## データの確認"
   ]
  },
  {
   "cell_type": "markdown",
   "metadata": {},
   "source": [
    "年齢の分布を確認"
   ]
  },
  {
   "cell_type": "code",
   "execution_count": 9,
   "metadata": {},
   "outputs": [
    {
     "data": {
      "image/png": "[encoded data removed]",
      "text/plain": [
       "<Figure size 800x500 with 1 Axes>"
      ]
     },
     "metadata": {},
     "output_type": "display_data"
    }
   ],
   "source": [
    "import matplotlib.pyplot as plt\n",
    "import seaborn as sns\n",
    "\n",
    "plt.figure(figsize=(8, 5))\n",
    "sns.histplot(train_x['Age'], bins=30, kde=True, color='blue')  # KDE=Trueで確率密度関数も描画\n",
    "plt.xlabel(\"Age\")\n",
    "plt.ylabel(\"Count\")\n",
    "plt.title(\"Distribution of Age\")\n",
    "plt.grid(True)\n",
    "plt.show()"
   ]
  },
  {
   "cell_type": "markdown",
   "metadata": {},
   "source": [
    "NaNが2つ以上ある行を確認"
   ]
  },
  {
   "cell_type": "code",
   "execution_count": 10,
   "metadata": {},
   "outputs": [
    {
     "name": "stdout",
     "output_type": "stream",
     "text": [
      "     Pclass                                      Name     Sex  Age  SibSp  \\\n",
      "5         3                          Moran, Mr. James    male  NaN      0   \n",
      "17        2              Williams, Mr. Charles Eugene    male  NaN      0   \n",
      "19        3                   Masselmani, Mrs. Fatima  female  NaN      0   \n",
      "26        3                   Emir, Mr. Farred Chehab    male  NaN      0   \n",
      "28        3             O'Dwyer, Miss. Ellen \"Nellie\"  female  NaN      0   \n",
      "..      ...                                       ...     ...  ...    ...   \n",
      "859       3                          Razi, Mr. Raihed    male  NaN      0   \n",
      "863       3         Sage, Miss. Dorothy Edith \"Dolly\"  female  NaN      8   \n",
      "868       3               van Melkebeke, Mr. Philemon    male  NaN      0   \n",
      "878       3                        Laleff, Mr. Kristo    male  NaN      0   \n",
      "888       3  Johnston, Miss. Catherine Helen \"Carrie\"  female  NaN      1   \n",
      "\n",
      "     Parch      Ticket     Fare Cabin Embarked  \n",
      "5        0      330877   8.4583   NaN        Q  \n",
      "17       0      244373  13.0000   NaN        S  \n",
      "19       0        2649   7.2250   NaN        C  \n",
      "26       0        2631   7.2250   NaN        C  \n",
      "28       0      330959   7.8792   NaN        Q  \n",
      "..     ...         ...      ...   ...      ...  \n",
      "859      0        2629   7.2292   NaN        C  \n",
      "863      2    CA. 2343  69.5500   NaN        S  \n",
      "868      0      345777   9.5000   NaN        S  \n",
      "878      0      349217   7.8958   NaN        S  \n",
      "888      2  W./C. 6607  23.4500   NaN        S  \n",
      "\n",
      "[158 rows x 10 columns]\n"
     ]
    }
   ],
   "source": [
    "nan_rows = train_x[train_x.isna().sum(axis=1) >= 2]\n",
    "print(nan_rows)\n",
    "#3個あるものはなかった"
   ]
  },
  {
   "cell_type": "markdown",
   "metadata": {},
   "source": [
    "ただ乗りしている人がいる！？"
   ]
  },
  {
   "cell_type": "code",
   "execution_count": 11,
   "metadata": {},
   "outputs": [
    {
     "name": "stdout",
     "output_type": "stream",
     "text": [
      "     Pclass                              Name   Sex   Age  SibSp  Parch  \\\n",
      "179       3               Leonard, Mr. Lionel  male  36.0      0      0   \n",
      "263       1             Harrison, Mr. William  male  40.0      0      0   \n",
      "271       3      Tornquist, Mr. William Henry  male  25.0      0      0   \n",
      "277       2       Parkes, Mr. Francis \"Frank\"  male   NaN      0      0   \n",
      "302       3   Johnson, Mr. William Cahoone Jr  male  19.0      0      0   \n",
      "413       2    Cunningham, Mr. Alfred Fleming  male   NaN      0      0   \n",
      "466       2             Campbell, Mr. William  male   NaN      0      0   \n",
      "481       2  Frost, Mr. Anthony Wood \"Archie\"  male   NaN      0      0   \n",
      "597       3               Johnson, Mr. Alfred  male  49.0      0      0   \n",
      "633       1     Parr, Mr. William Henry Marsh  male   NaN      0      0   \n",
      "674       2        Watson, Mr. Ennis Hastings  male   NaN      0      0   \n",
      "732       2              Knight, Mr. Robert J  male   NaN      0      0   \n",
      "806       1            Andrews, Mr. Thomas Jr  male  39.0      0      0   \n",
      "815       1                  Fry, Mr. Richard  male   NaN      0      0   \n",
      "822       1   Reuchlin, Jonkheer. John George  male  38.0      0      0   \n",
      "\n",
      "     Ticket  Fare Cabin Embarked  \n",
      "179    LINE   0.0   NaN        S  \n",
      "263  112059   0.0   B94        S  \n",
      "271    LINE   0.0   NaN        S  \n",
      "277  239853   0.0   NaN        S  \n",
      "302    LINE   0.0   NaN        S  \n",
      "413  239853   0.0   NaN        S  \n",
      "466  239853   0.0   NaN        S  \n",
      "481  239854   0.0   NaN        S  \n",
      "597    LINE   0.0   NaN        S  \n",
      "633  112052   0.0   NaN        S  \n",
      "674  239856   0.0   NaN        S  \n",
      "732  239855   0.0   NaN        S  \n",
      "806  112050   0.0   A36        S  \n",
      "815  112058   0.0  B102        S  \n",
      "822   19972   0.0   NaN        S  \n"
     ]
    }
   ],
   "source": [
    "fare_zero_rows = train_x[train_x['Fare'] == 0]\n",
    "print(fare_zero_rows)"
   ]
  },
  {
   "cell_type": "code",
   "execution_count": 12,
   "metadata": {},
   "outputs": [],
   "source": [
    "#train_x2 = train_x.copy()\n",
    "#train_y2 = train_y.copy()\n",
    "#test_x2 = test_x.copy()"
   ]
  },
  {
   "cell_type": "markdown",
   "metadata": {},
   "source": [
    "## 特徴量の作成"
   ]
  },
  {
   "cell_type": "markdown",
   "metadata": {},
   "source": [
    "### 行のNaNの数の特徴量を作成する"
   ]
  },
  {
   "cell_type": "code",
   "execution_count": 13,
   "metadata": {},
   "outputs": [],
   "source": [
    "#train_x[\"num_missing\"] = train_x.isna().sum(axis=1)\n",
    "#test_x[\"num_missing\"] = test_x.isna().sum(axis=1)"
   ]
  },
  {
   "cell_type": "markdown",
   "metadata": {},
   "source": [
    "### Fareが０の特徴量の列の作成"
   ]
  },
  {
   "cell_type": "code",
   "execution_count": 14,
   "metadata": {},
   "outputs": [],
   "source": [
    "#使えなかった\n",
    "train_x[\"fare_zero\"] = (train_x['Fare'] == 0).astype(int)\n",
    "test_x[\"fare_zero\"] = (test_x['Fare'] == 0).astype(int)"
   ]
  },
  {
   "cell_type": "markdown",
   "metadata": {},
   "source": [
    "### Cabinから新たな特徴量を作成する"
   ]
  },
  {
   "cell_type": "code",
   "execution_count": 15,
   "metadata": {},
   "outputs": [
    {
     "name": "stdout",
     "output_type": "stream",
     "text": [
      "0      NaN\n",
      "1        C\n",
      "2      NaN\n",
      "3        C\n",
      "4      NaN\n",
      "      ... \n",
      "886    NaN\n",
      "887      B\n",
      "888    NaN\n",
      "889      C\n",
      "890    NaN\n",
      "Name: Cabin_Deck, Length: 891, dtype: object\n"
     ]
    }
   ],
   "source": [
    "train_x['Cabin_Deck'] = train_x['Cabin'].astype(str).str[0]\n",
    "train_x.loc[train_x['Cabin'].isna(),'Cabin_Deck'] = np.nan\n",
    "\n",
    "test_x['Cabin_Deck'] = test_x['Cabin'].astype(str).str[0]\n",
    "test_x.loc[test_x['Cabin'].isna(),'Cabin_Deck'] = np.nan\n",
    "\n",
    "print(train_x['Cabin_Deck'])"
   ]
  },
  {
   "cell_type": "markdown",
   "metadata": {},
   "source": [
    "### Name列からタイトルを抽出"
   ]
  },
  {
   "cell_type": "code",
   "execution_count": 16,
   "metadata": {},
   "outputs": [
    {
     "name": "stdout",
     "output_type": "stream",
     "text": [
      "Title\n",
      "Mr        517\n",
      "Miss      182\n",
      "Mrs       125\n",
      "Master     40\n",
      "Rare       27\n",
      "Name: count, dtype: int64\n",
      "Title\n",
      "Mr        240\n",
      "Miss       78\n",
      "Mrs        72\n",
      "Master     21\n",
      "Rare        7\n",
      "Name: count, dtype: int64\n"
     ]
    }
   ],
   "source": [
    "# Name列からタイトルを抽出\n",
    "train_x['Title'] = train_x['Name'].str.extract(r',\\s*([^\\.]+)\\.')\n",
    "test_x['Title'] = test_x['Name'].str.extract(r',\\s*([^\\.]+)\\.')\n",
    "\n",
    "# 稀なタイトルを結合\n",
    "rare_titles = ['Lady', 'Countess', 'Capt', 'Col', 'Don', 'Dr', 'Major', 'Rev', 'Sir', \n",
    "               'Jonkheer', 'Dona', 'Mlle', 'Mme', 'Ms', 'the Countess']\n",
    "train_x['Title'] = train_x['Title'].replace(rare_titles,'Rare')\n",
    "test_x['Title'] = test_x['Title'].replace(rare_titles,'Rare')\n",
    "\n",
    "print(train_x['Title'].value_counts())\n",
    "print(test_x['Title'].value_counts())"
   ]
  },
  {
   "cell_type": "markdown",
   "metadata": {},
   "source": [
    "### 家族人数の特徴量の作成をする"
   ]
  },
  {
   "cell_type": "code",
   "execution_count": 17,
   "metadata": {},
   "outputs": [],
   "source": [
    "#家族人数の合計\n",
    "train_x['FamilySize'] = train_x['SibSp'] + train_x['Parch'] + 1\n",
    "test_x['FamilySize'] = test_x['SibSp'] + test_x['Parch'] + 1"
   ]
  },
  {
   "cell_type": "markdown",
   "metadata": {},
   "source": [
    "### 料金/家族人数の特徴量を作成する"
   ]
  },
  {
   "cell_type": "code",
   "execution_count": 18,
   "metadata": {},
   "outputs": [
    {
     "data": {
      "text/plain": [
       "0       3.62500\n",
       "1      35.64165\n",
       "2       7.92500\n",
       "3      26.55000\n",
       "4       8.05000\n",
       "         ...   \n",
       "886    13.00000\n",
       "887    30.00000\n",
       "888     5.86250\n",
       "889    30.00000\n",
       "890     7.75000\n",
       "Name: FarePerFamilyMember, Length: 891, dtype: float64"
      ]
     },
     "execution_count": 18,
     "metadata": {},
     "output_type": "execute_result"
    }
   ],
   "source": [
    "train_x['FarePerFamilyMember'] = train_x['Fare'] / train_x['FamilySize']\n",
    "test_x['FarePerFamilyMember'] = test_x['Fare'] / train_x['FamilySize']\n",
    "\n",
    "train_x['FarePerFamilyMember']"
   ]
  },
  {
   "cell_type": "markdown",
   "metadata": {},
   "source": [
    "### LastNameの特徴量を作成する"
   ]
  },
  {
   "cell_type": "code",
   "execution_count": 19,
   "metadata": {},
   "outputs": [],
   "source": [
    "#姓(LastName)を抽出して新しい列に追加\n",
    "train_x['LastName'] = train['Name'].str.split(',').str[0]\n",
    "test_x['LastName'] = test['Name'].str.split(',').str[0]"
   ]
  },
  {
   "cell_type": "code",
   "execution_count": 20,
   "metadata": {},
   "outputs": [
    {
     "data": {
      "text/plain": [
       "LastName\n",
       "Andersson    9\n",
       "Sage         7\n",
       "Panula       6\n",
       "Skoog        6\n",
       "Carter       6\n",
       "            ..\n",
       "Hanna        1\n",
       "Lewy         1\n",
       "Mineff       1\n",
       "Haas         1\n",
       "Dooley       1\n",
       "Name: count, Length: 667, dtype: int64"
      ]
     },
     "execution_count": 20,
     "metadata": {},
     "output_type": "execute_result"
    }
   ],
   "source": [
    "train_x['LastName'].value_counts()"
   ]
  },
  {
   "cell_type": "markdown",
   "metadata": {},
   "source": [
    "### LastNameからSameNameの列を作成する"
   ]
  },
  {
   "cell_type": "code",
   "execution_count": 21,
   "metadata": {},
   "outputs": [],
   "source": [
    "#LastNameの登場回数を記録\n",
    "train_x['Same_Name'] = train_x['LastName'].map(train_x['LastName'].value_counts())\n",
    "test_x['Same_Name'] = test_x['LastName'].map(test_x['LastName'].value_counts())"
   ]
  },
  {
   "cell_type": "markdown",
   "metadata": {},
   "source": [
    "### Ticketから特徴量を作る"
   ]
  },
  {
   "cell_type": "code",
   "execution_count": 22,
   "metadata": {},
   "outputs": [],
   "source": [
    "def classify_ticket(ticket):\n",
    "    #  1. Numeric（すべて数値）\n",
    "    if ticket.isdigit():\n",
    "        return \"Numeric\"\n",
    "    \n",
    "    #  2. SpecialChar（\"/\" や \".\" を含む場合）\n",
    "    elif \"/\" in ticket or \".\" in ticket:\n",
    "        return \"SpecialChar\"\n",
    "    \n",
    "    #  3. Alphanumeric（英字と数字の両方を含む場合）\n",
    "    elif any(char.isdigit() for char in ticket) and any(char.isalpha() for char in ticket):\n",
    "        return \"Alphanumeric\"\n",
    "    \n",
    "    #  4. Unknown（どれにも当てはまらない場合）\n",
    "    else:\n",
    "        return \"Unknown\""
   ]
  },
  {
   "cell_type": "code",
   "execution_count": 23,
   "metadata": {},
   "outputs": [
    {
     "name": "stdout",
     "output_type": "stream",
     "text": [
      "Ticket_Tpye\n",
      "Numeric         661\n",
      "SpecialChar     150\n",
      "Alphanumeric     76\n",
      "Unknown           4\n",
      "Name: count, dtype: int64\n"
     ]
    }
   ],
   "source": [
    "train_x[\"Ticket_Tpye\"] = train_x[\"Ticket\"].apply(classify_ticket)\n",
    "test_x[\"Ticket_Tpye\"] = test_x[\"Ticket\"].apply(classify_ticket)\n",
    "print(train_x['Ticket_Tpye'].value_counts())"
   ]
  },
  {
   "cell_type": "code",
   "execution_count": 24,
   "metadata": {},
   "outputs": [
    {
     "data": {
      "text/plain": [
       "0             A/5 21171\n",
       "2      STON/O2. 3101282\n",
       "12            A/5. 2151\n",
       "33           C.A. 24579\n",
       "37           A./5. 2152\n",
       "             ...       \n",
       "866       SC/PARIS 2149\n",
       "874           P/PP 3381\n",
       "883    C.A./SOTON 34068\n",
       "884     SOTON/OQ 392076\n",
       "888          W./C. 6607\n",
       "Name: Ticket, Length: 150, dtype: object"
      ]
     },
     "execution_count": 24,
     "metadata": {},
     "output_type": "execute_result"
    }
   ],
   "source": [
    "#正しく分類できているか確認\n",
    "train_x[train_x[\"Ticket_Tpye\"] == \"SpecialChar\"][\"Ticket\"]"
   ]
  },
  {
   "cell_type": "markdown",
   "metadata": {},
   "source": [
    "### 子どもだけの特徴量を作成したい"
   ]
  },
  {
   "cell_type": "code",
   "execution_count": 25,
   "metadata": {},
   "outputs": [
    {
     "name": "stdout",
     "output_type": "stream",
     "text": [
      "     Pclass                                               Name     Sex   Age  \\\n",
      "1         1  Cumings, Mrs. John Bradley (Florence Briggs Th...  female  38.0   \n",
      "3         1       Futrelle, Mrs. Jacques Heath (Lily May Peel)  female  35.0   \n",
      "9         2                Nasser, Mrs. Nicholas (Adele Achem)  female  14.0   \n",
      "18        3  Vander Planke, Mrs. Julius (Emelia Maria Vande...  female  31.0   \n",
      "25        3  Asplund, Mrs. Carl Oscar (Selma Augusta Emilia...  female  38.0   \n",
      "..      ...                                                ...     ...   ...   \n",
      "849       1       Goldenberg, Mrs. Samuel L (Edwiga Grabowska)  female   NaN   \n",
      "854       2      Carter, Mrs. Ernest Courtenay (Lilian Hughes)  female  44.0   \n",
      "856       1         Wick, Mrs. George Dennick (Mary Hitchcock)  female  45.0   \n",
      "871       1   Beckwith, Mrs. Richard Leonard (Sallie Monypeny)  female  47.0   \n",
      "874       2              Abelson, Mrs. Samuel (Hannah Wizosky)  female  28.0   \n",
      "\n",
      "     SibSp  Parch     Ticket      Fare Cabin Embarked  fare_zero Cabin_Deck  \\\n",
      "1        1      0   PC 17599   71.2833   C85        C          0          C   \n",
      "3        1      0     113803   53.1000  C123        S          0          C   \n",
      "9        1      0     237736   30.0708   NaN        C          0        NaN   \n",
      "18       1      0     345763   18.0000   NaN        S          0        NaN   \n",
      "25       1      5     347077   31.3875   NaN        S          0        NaN   \n",
      "..     ...    ...        ...       ...   ...      ...        ...        ...   \n",
      "849      1      0      17453   89.1042   C92        C          0          C   \n",
      "854      1      0     244252   26.0000   NaN        S          0        NaN   \n",
      "856      1      1      36928  164.8667   NaN        S          0        NaN   \n",
      "871      1      1      11751   52.5542   D35        S          0          D   \n",
      "874      1      0  P/PP 3381   24.0000   NaN        C          0        NaN   \n",
      "\n",
      "    Title  FamilySize  FarePerFamilyMember       LastName  Same_Name  \\\n",
      "1     Mrs           2            35.641650        Cumings          1   \n",
      "3     Mrs           2            26.550000       Futrelle          2   \n",
      "9     Mrs           2            15.035400         Nasser          2   \n",
      "18    Mrs           2             9.000000  Vander Planke          3   \n",
      "25    Mrs           7             4.483929        Asplund          4   \n",
      "..    ...         ...                  ...            ...        ...   \n",
      "849   Mrs           2            44.552100     Goldenberg          2   \n",
      "854   Mrs           2            13.000000         Carter          6   \n",
      "856   Mrs           3            54.955567           Wick          2   \n",
      "871   Mrs           3            17.518067       Beckwith          2   \n",
      "874   Mrs           2            12.000000        Abelson          2   \n",
      "\n",
      "      Ticket_Tpye  \n",
      "1    Alphanumeric  \n",
      "3         Numeric  \n",
      "9         Numeric  \n",
      "18        Numeric  \n",
      "25        Numeric  \n",
      "..            ...  \n",
      "849       Numeric  \n",
      "854       Numeric  \n",
      "856       Numeric  \n",
      "871       Numeric  \n",
      "874   SpecialChar  \n",
      "\n",
      "[75 rows x 18 columns]\n"
     ]
    }
   ],
   "source": [
    "#妻から夫を算出\n",
    "filtered_rows = train_x[(train_x[\"Title\"] == \"Mrs\") & (train_x[\"SibSp\"] == 1)]\n",
    "print(filtered_rows)"
   ]
  },
  {
   "cell_type": "markdown",
   "metadata": {},
   "source": [
    "### 子か親の欄を2人いる時は親だと仮定して特徴量の作成"
   ]
  },
  {
   "cell_type": "code",
   "execution_count": 26,
   "metadata": {},
   "outputs": [],
   "source": [
    "#train_x['Parch_child'] = (train_x['Parch']==2) & ((train_x['Title'] == 'Miss') | (train_x['Parch'] == 'Master'))\n",
    "#train_x"
   ]
  },
  {
   "cell_type": "markdown",
   "metadata": {},
   "source": [
    "### Ageデータの結合"
   ]
  },
  {
   "cell_type": "code",
   "execution_count": 27,
   "metadata": {},
   "outputs": [],
   "source": [
    "train_cabin_data = pd.read_csv('cabin_data/train_cabin_data1.csv')\n",
    "test_cabin_data = pd.read_csv('cabin_data/test_cabin_data1.csv')\n",
    "\n",
    "train_x = pd.concat([train_x,train_cabin_data['Predict_Cabin']],axis=1)\n",
    "test_x = pd.concat([test_x,test_cabin_data['Predict_Cabin']],axis=1)"
   ]
  },
  {
   "cell_type": "markdown",
   "metadata": {},
   "source": [
    "### Ageを二値に分類"
   ]
  },
  {
   "cell_type": "code",
   "execution_count": 28,
   "metadata": {},
   "outputs": [],
   "source": [
    "train_x['Age_missing'] = train_x['Age'].isnull().astype(int)\n",
    "test_x['Age_missing'] = test_x['Age'].isnull().astype(int)"
   ]
  },
  {
   "cell_type": "markdown",
   "metadata": {},
   "source": [
    "### Cabinデータ結合"
   ]
  },
  {
   "cell_type": "code",
   "execution_count": 29,
   "metadata": {},
   "outputs": [],
   "source": [
    "train_age_data = pd.read_csv('age_data/train_age_data1.csv')\n",
    "test_age_data = pd.read_csv('age_data/test_age_data1.csv')\n",
    "\n",
    "train_x = pd.concat([train_x,train_age_data['Predict_Age']],axis=1)\n",
    "test_x = pd.concat([test_x,test_age_data['Predict_Age']],axis=1)"
   ]
  },
  {
   "cell_type": "code",
   "execution_count": 30,
   "metadata": {},
   "outputs": [],
   "source": [
    "train_x['Cabin_missing'] = train_x['Cabin_Deck'].isnull().astype(int)\n",
    "test_x['Cabin_missing'] = test_x['Cabin_Deck'].isnull().astype(int)"
   ]
  },
  {
   "cell_type": "markdown",
   "metadata": {},
   "source": [
    "### LastNameの長さから特徴量を作成する"
   ]
  },
  {
   "cell_type": "code",
   "execution_count": 31,
   "metadata": {},
   "outputs": [
    {
     "name": "stdout",
     "output_type": "stream",
     "text": [
      "    LastName  LastName_length\n",
      "0     Braund                6\n",
      "1    Cumings                7\n",
      "2  Heikkinen                9\n",
      "3   Futrelle                8\n",
      "4      Allen                5\n"
     ]
    }
   ],
   "source": [
    "# 名前の長さを特徴量として追加\n",
    "train_x['LastName_length'] = train_x['LastName'].apply(len)\n",
    "test_x['LastName_length'] = test_x['LastName'].apply(len)\n",
    "\n",
    "# 確認\n",
    "print(train_x[['LastName', 'LastName_length']].head())"
   ]
  },
  {
   "cell_type": "markdown",
   "metadata": {},
   "source": [
    "###  最初の文字の特徴量"
   ]
  },
  {
   "cell_type": "code",
   "execution_count": 32,
   "metadata": {},
   "outputs": [
    {
     "data": {
      "text/plain": [
       "0       1\n",
       "1       2\n",
       "2       7\n",
       "3       5\n",
       "4       0\n",
       "       ..\n",
       "886    12\n",
       "887     6\n",
       "888     9\n",
       "889     1\n",
       "890     3\n",
       "Name: LastName_first_char, Length: 891, dtype: int64"
      ]
     },
     "execution_count": 32,
     "metadata": {},
     "output_type": "execute_result"
    }
   ],
   "source": [
    "from sklearn.preprocessing import LabelEncoder\n",
    "#\"\"\"\n",
    "train_x['LastName_first_char'] = train_x['LastName'].apply(lambda x: str(x)[0])\n",
    "test_x['LastName_first_char'] = test_x['LastName'].apply(lambda x: str(x)[0])\n",
    "\n",
    "# 最初の文字をエンコード\n",
    "for c in ['LastName_first_char']:\n",
    "    le = LabelEncoder()\n",
    "    le.fit(train_x[c].fillna('NA'))\n",
    "    train_x[c] = le.transform(train_x[c].fillna('NA'))\n",
    "    test_x[c] = le.transform(test_x[c].fillna('NA'))\n",
    "\n",
    "train_x['LastName_first_char']\n",
    "#\"\"\""
   ]
  },
  {
   "cell_type": "markdown",
   "metadata": {},
   "source": [
    "### 最終データ確認"
   ]
  },
  {
   "cell_type": "code",
   "execution_count": 33,
   "metadata": {},
   "outputs": [
    {
     "data": {
      "text/html": [
       "<div>\n",
       "<style scoped>\n",
       "    .dataframe tbody tr th:only-of-type {\n",
       "        vertical-align: middle;\n",
       "    }\n",
       "\n",
       "    .dataframe tbody tr th {\n",
       "        vertical-align: top;\n",
       "    }\n",
       "\n",
       "    .dataframe thead th {\n",
       "        text-align: right;\n",
       "    }\n",
       "</style>\n",
       "<table border=\"1\" class=\"dataframe\">\n",
       "  <thead>\n",
       "    <tr style=\"text-align: right;\">\n",
       "      <th></th>\n",
       "      <th>Pclass</th>\n",
       "      <th>Name</th>\n",
       "      <th>Sex</th>\n",
       "      <th>Age</th>\n",
       "      <th>SibSp</th>\n",
       "      <th>Parch</th>\n",
       "      <th>Ticket</th>\n",
       "      <th>Fare</th>\n",
       "      <th>Cabin</th>\n",
       "      <th>Embarked</th>\n",
       "      <th>...</th>\n",
       "      <th>FarePerFamilyMember</th>\n",
       "      <th>LastName</th>\n",
       "      <th>Same_Name</th>\n",
       "      <th>Ticket_Tpye</th>\n",
       "      <th>Predict_Cabin</th>\n",
       "      <th>Age_missing</th>\n",
       "      <th>Predict_Age</th>\n",
       "      <th>Cabin_missing</th>\n",
       "      <th>LastName_length</th>\n",
       "      <th>LastName_first_char</th>\n",
       "    </tr>\n",
       "  </thead>\n",
       "  <tbody>\n",
       "    <tr>\n",
       "      <th>0</th>\n",
       "      <td>3</td>\n",
       "      <td>Braund, Mr. Owen Harris</td>\n",
       "      <td>male</td>\n",
       "      <td>22.0</td>\n",
       "      <td>1</td>\n",
       "      <td>0</td>\n",
       "      <td>A/5 21171</td>\n",
       "      <td>7.2500</td>\n",
       "      <td>NaN</td>\n",
       "      <td>S</td>\n",
       "      <td>...</td>\n",
       "      <td>3.62500</td>\n",
       "      <td>Braund</td>\n",
       "      <td>2</td>\n",
       "      <td>SpecialChar</td>\n",
       "      <td>7</td>\n",
       "      <td>0</td>\n",
       "      <td>22.0</td>\n",
       "      <td>1</td>\n",
       "      <td>6</td>\n",
       "      <td>1</td>\n",
       "    </tr>\n",
       "    <tr>\n",
       "      <th>1</th>\n",
       "      <td>1</td>\n",
       "      <td>Cumings, Mrs. John Bradley (Florence Briggs Th...</td>\n",
       "      <td>female</td>\n",
       "      <td>38.0</td>\n",
       "      <td>1</td>\n",
       "      <td>0</td>\n",
       "      <td>PC 17599</td>\n",
       "      <td>71.2833</td>\n",
       "      <td>C85</td>\n",
       "      <td>C</td>\n",
       "      <td>...</td>\n",
       "      <td>35.64165</td>\n",
       "      <td>Cumings</td>\n",
       "      <td>1</td>\n",
       "      <td>Alphanumeric</td>\n",
       "      <td>2</td>\n",
       "      <td>0</td>\n",
       "      <td>38.0</td>\n",
       "      <td>0</td>\n",
       "      <td>7</td>\n",
       "      <td>2</td>\n",
       "    </tr>\n",
       "    <tr>\n",
       "      <th>2</th>\n",
       "      <td>3</td>\n",
       "      <td>Heikkinen, Miss. Laina</td>\n",
       "      <td>female</td>\n",
       "      <td>26.0</td>\n",
       "      <td>0</td>\n",
       "      <td>0</td>\n",
       "      <td>STON/O2. 3101282</td>\n",
       "      <td>7.9250</td>\n",
       "      <td>NaN</td>\n",
       "      <td>S</td>\n",
       "      <td>...</td>\n",
       "      <td>7.92500</td>\n",
       "      <td>Heikkinen</td>\n",
       "      <td>1</td>\n",
       "      <td>SpecialChar</td>\n",
       "      <td>7</td>\n",
       "      <td>0</td>\n",
       "      <td>26.0</td>\n",
       "      <td>1</td>\n",
       "      <td>9</td>\n",
       "      <td>7</td>\n",
       "    </tr>\n",
       "    <tr>\n",
       "      <th>3</th>\n",
       "      <td>1</td>\n",
       "      <td>Futrelle, Mrs. Jacques Heath (Lily May Peel)</td>\n",
       "      <td>female</td>\n",
       "      <td>35.0</td>\n",
       "      <td>1</td>\n",
       "      <td>0</td>\n",
       "      <td>113803</td>\n",
       "      <td>53.1000</td>\n",
       "      <td>C123</td>\n",
       "      <td>S</td>\n",
       "      <td>...</td>\n",
       "      <td>26.55000</td>\n",
       "      <td>Futrelle</td>\n",
       "      <td>2</td>\n",
       "      <td>Numeric</td>\n",
       "      <td>2</td>\n",
       "      <td>0</td>\n",
       "      <td>35.0</td>\n",
       "      <td>0</td>\n",
       "      <td>8</td>\n",
       "      <td>5</td>\n",
       "    </tr>\n",
       "    <tr>\n",
       "      <th>4</th>\n",
       "      <td>3</td>\n",
       "      <td>Allen, Mr. William Henry</td>\n",
       "      <td>male</td>\n",
       "      <td>35.0</td>\n",
       "      <td>0</td>\n",
       "      <td>0</td>\n",
       "      <td>373450</td>\n",
       "      <td>8.0500</td>\n",
       "      <td>NaN</td>\n",
       "      <td>S</td>\n",
       "      <td>...</td>\n",
       "      <td>8.05000</td>\n",
       "      <td>Allen</td>\n",
       "      <td>2</td>\n",
       "      <td>Numeric</td>\n",
       "      <td>7</td>\n",
       "      <td>0</td>\n",
       "      <td>35.0</td>\n",
       "      <td>1</td>\n",
       "      <td>5</td>\n",
       "      <td>0</td>\n",
       "    </tr>\n",
       "  </tbody>\n",
       "</table>\n",
       "<p>5 rows × 24 columns</p>\n",
       "</div>"
      ],
      "text/plain": [
       "   Pclass                                               Name     Sex   Age  \\\n",
       "0       3                            Braund, Mr. Owen Harris    male  22.0   \n",
       "1       1  Cumings, Mrs. John Bradley (Florence Briggs Th...  female  38.0   \n",
       "2       3                             Heikkinen, Miss. Laina  female  26.0   \n",
       "3       1       Futrelle, Mrs. Jacques Heath (Lily May Peel)  female  35.0   \n",
       "4       3                           Allen, Mr. William Henry    male  35.0   \n",
       "\n",
       "   SibSp  Parch            Ticket     Fare Cabin Embarked  ...  \\\n",
       "0      1      0         A/5 21171   7.2500   NaN        S  ...   \n",
       "1      1      0          PC 17599  71.2833   C85        C  ...   \n",
       "2      0      0  STON/O2. 3101282   7.9250   NaN        S  ...   \n",
       "3      1      0            113803  53.1000  C123        S  ...   \n",
       "4      0      0            373450   8.0500   NaN        S  ...   \n",
       "\n",
       "   FarePerFamilyMember   LastName Same_Name   Ticket_Tpye  Predict_Cabin  \\\n",
       "0              3.62500     Braund         2   SpecialChar              7   \n",
       "1             35.64165    Cumings         1  Alphanumeric              2   \n",
       "2              7.92500  Heikkinen         1   SpecialChar              7   \n",
       "3             26.55000   Futrelle         2       Numeric              2   \n",
       "4              8.05000      Allen         2       Numeric              7   \n",
       "\n",
       "  Age_missing  Predict_Age Cabin_missing  LastName_length  LastName_first_char  \n",
       "0           0         22.0             1                6                    1  \n",
       "1           0         38.0             0                7                    2  \n",
       "2           0         26.0             1                9                    7  \n",
       "3           0         35.0             0                8                    5  \n",
       "4           0         35.0             1                5                    0  \n",
       "\n",
       "[5 rows x 24 columns]"
      ]
     },
     "execution_count": 33,
     "metadata": {},
     "output_type": "execute_result"
    }
   ],
   "source": [
    "train_x.head()"
   ]
  },
  {
   "cell_type": "code",
   "execution_count": 34,
   "metadata": {},
   "outputs": [
    {
     "data": {
      "text/html": [
       "<div>\n",
       "<style scoped>\n",
       "    .dataframe tbody tr th:only-of-type {\n",
       "        vertical-align: middle;\n",
       "    }\n",
       "\n",
       "    .dataframe tbody tr th {\n",
       "        vertical-align: top;\n",
       "    }\n",
       "\n",
       "    .dataframe thead th {\n",
       "        text-align: right;\n",
       "    }\n",
       "</style>\n",
       "<table border=\"1\" class=\"dataframe\">\n",
       "  <thead>\n",
       "    <tr style=\"text-align: right;\">\n",
       "      <th></th>\n",
       "      <th>Pclass</th>\n",
       "      <th>Name</th>\n",
       "      <th>Sex</th>\n",
       "      <th>Age</th>\n",
       "      <th>SibSp</th>\n",
       "      <th>Parch</th>\n",
       "      <th>Ticket</th>\n",
       "      <th>Fare</th>\n",
       "      <th>Cabin</th>\n",
       "      <th>Embarked</th>\n",
       "      <th>...</th>\n",
       "      <th>FarePerFamilyMember</th>\n",
       "      <th>LastName</th>\n",
       "      <th>Same_Name</th>\n",
       "      <th>Ticket_Tpye</th>\n",
       "      <th>Predict_Cabin</th>\n",
       "      <th>Age_missing</th>\n",
       "      <th>Predict_Age</th>\n",
       "      <th>Cabin_missing</th>\n",
       "      <th>LastName_length</th>\n",
       "      <th>LastName_first_char</th>\n",
       "    </tr>\n",
       "  </thead>\n",
       "  <tbody>\n",
       "    <tr>\n",
       "      <th>0</th>\n",
       "      <td>3</td>\n",
       "      <td>Kelly, Mr. James</td>\n",
       "      <td>male</td>\n",
       "      <td>34.5</td>\n",
       "      <td>0</td>\n",
       "      <td>0</td>\n",
       "      <td>330911</td>\n",
       "      <td>7.8292</td>\n",
       "      <td>NaN</td>\n",
       "      <td>Q</td>\n",
       "      <td>...</td>\n",
       "      <td>3.91460</td>\n",
       "      <td>Kelly</td>\n",
       "      <td>1</td>\n",
       "      <td>Numeric</td>\n",
       "      <td>7</td>\n",
       "      <td>0</td>\n",
       "      <td>34.5</td>\n",
       "      <td>1</td>\n",
       "      <td>5</td>\n",
       "      <td>10</td>\n",
       "    </tr>\n",
       "    <tr>\n",
       "      <th>1</th>\n",
       "      <td>3</td>\n",
       "      <td>Wilkes, Mrs. James (Ellen Needs)</td>\n",
       "      <td>female</td>\n",
       "      <td>47.0</td>\n",
       "      <td>1</td>\n",
       "      <td>0</td>\n",
       "      <td>363272</td>\n",
       "      <td>7.0000</td>\n",
       "      <td>NaN</td>\n",
       "      <td>S</td>\n",
       "      <td>...</td>\n",
       "      <td>3.50000</td>\n",
       "      <td>Wilkes</td>\n",
       "      <td>1</td>\n",
       "      <td>Numeric</td>\n",
       "      <td>7</td>\n",
       "      <td>0</td>\n",
       "      <td>47.0</td>\n",
       "      <td>1</td>\n",
       "      <td>6</td>\n",
       "      <td>22</td>\n",
       "    </tr>\n",
       "    <tr>\n",
       "      <th>2</th>\n",
       "      <td>2</td>\n",
       "      <td>Myles, Mr. Thomas Francis</td>\n",
       "      <td>male</td>\n",
       "      <td>62.0</td>\n",
       "      <td>0</td>\n",
       "      <td>0</td>\n",
       "      <td>240276</td>\n",
       "      <td>9.6875</td>\n",
       "      <td>NaN</td>\n",
       "      <td>Q</td>\n",
       "      <td>...</td>\n",
       "      <td>9.68750</td>\n",
       "      <td>Myles</td>\n",
       "      <td>1</td>\n",
       "      <td>Numeric</td>\n",
       "      <td>7</td>\n",
       "      <td>0</td>\n",
       "      <td>62.0</td>\n",
       "      <td>1</td>\n",
       "      <td>5</td>\n",
       "      <td>12</td>\n",
       "    </tr>\n",
       "    <tr>\n",
       "      <th>3</th>\n",
       "      <td>3</td>\n",
       "      <td>Wirz, Mr. Albert</td>\n",
       "      <td>male</td>\n",
       "      <td>27.0</td>\n",
       "      <td>0</td>\n",
       "      <td>0</td>\n",
       "      <td>315154</td>\n",
       "      <td>8.6625</td>\n",
       "      <td>NaN</td>\n",
       "      <td>S</td>\n",
       "      <td>...</td>\n",
       "      <td>4.33125</td>\n",
       "      <td>Wirz</td>\n",
       "      <td>1</td>\n",
       "      <td>Numeric</td>\n",
       "      <td>7</td>\n",
       "      <td>0</td>\n",
       "      <td>27.0</td>\n",
       "      <td>1</td>\n",
       "      <td>4</td>\n",
       "      <td>22</td>\n",
       "    </tr>\n",
       "    <tr>\n",
       "      <th>4</th>\n",
       "      <td>3</td>\n",
       "      <td>Hirvonen, Mrs. Alexander (Helga E Lindqvist)</td>\n",
       "      <td>female</td>\n",
       "      <td>22.0</td>\n",
       "      <td>1</td>\n",
       "      <td>1</td>\n",
       "      <td>3101298</td>\n",
       "      <td>12.2875</td>\n",
       "      <td>NaN</td>\n",
       "      <td>S</td>\n",
       "      <td>...</td>\n",
       "      <td>12.28750</td>\n",
       "      <td>Hirvonen</td>\n",
       "      <td>1</td>\n",
       "      <td>Numeric</td>\n",
       "      <td>7</td>\n",
       "      <td>0</td>\n",
       "      <td>22.0</td>\n",
       "      <td>1</td>\n",
       "      <td>8</td>\n",
       "      <td>7</td>\n",
       "    </tr>\n",
       "  </tbody>\n",
       "</table>\n",
       "<p>5 rows × 24 columns</p>\n",
       "</div>"
      ],
      "text/plain": [
       "   Pclass                                          Name     Sex   Age  SibSp  \\\n",
       "0       3                              Kelly, Mr. James    male  34.5      0   \n",
       "1       3              Wilkes, Mrs. James (Ellen Needs)  female  47.0      1   \n",
       "2       2                     Myles, Mr. Thomas Francis    male  62.0      0   \n",
       "3       3                              Wirz, Mr. Albert    male  27.0      0   \n",
       "4       3  Hirvonen, Mrs. Alexander (Helga E Lindqvist)  female  22.0      1   \n",
       "\n",
       "   Parch   Ticket     Fare Cabin Embarked  ...  FarePerFamilyMember  LastName  \\\n",
       "0      0   330911   7.8292   NaN        Q  ...              3.91460     Kelly   \n",
       "1      0   363272   7.0000   NaN        S  ...              3.50000    Wilkes   \n",
       "2      0   240276   9.6875   NaN        Q  ...              9.68750     Myles   \n",
       "3      0   315154   8.6625   NaN        S  ...              4.33125      Wirz   \n",
       "4      1  3101298  12.2875   NaN        S  ...             12.28750  Hirvonen   \n",
       "\n",
       "  Same_Name  Ticket_Tpye  Predict_Cabin Age_missing  Predict_Age  \\\n",
       "0         1      Numeric              7           0         34.5   \n",
       "1         1      Numeric              7           0         47.0   \n",
       "2         1      Numeric              7           0         62.0   \n",
       "3         1      Numeric              7           0         27.0   \n",
       "4         1      Numeric              7           0         22.0   \n",
       "\n",
       "  Cabin_missing  LastName_length  LastName_first_char  \n",
       "0             1                5                   10  \n",
       "1             1                6                   22  \n",
       "2             1                5                   12  \n",
       "3             1                4                   22  \n",
       "4             1                8                    7  \n",
       "\n",
       "[5 rows x 24 columns]"
      ]
     },
     "execution_count": 34,
     "metadata": {},
     "output_type": "execute_result"
    }
   ],
   "source": [
    "test_x.head()"
   ]
  },
  {
   "cell_type": "markdown",
   "metadata": {},
   "source": [
    "### 変更した特徴量の削除"
   ]
  },
  {
   "cell_type": "code",
   "execution_count": 35,
   "metadata": {},
   "outputs": [],
   "source": [
    "#変数を削除する\n",
    "#train_x = train_x.drop(['Name','Ticket','LastName','Cabin' ],axis=1)\n",
    "#test_x = test_x.drop(['Name','Ticket','LastName','Cabin'],axis=1)"
   ]
  },
  {
   "cell_type": "code",
   "execution_count": 36,
   "metadata": {},
   "outputs": [],
   "source": [
    "#変数を削除する\n",
    "train_x = train_x.drop(['Name','Ticket','LastName','Cabin'],axis=1)\n",
    "test_x = test_x.drop(['Name','Ticket','LastName','Cabin'],axis=1)"
   ]
  },
  {
   "cell_type": "markdown",
   "metadata": {},
   "source": [
    "### one-hot encodingを行う"
   ]
  },
  {
   "cell_type": "code",
   "execution_count": 37,
   "metadata": {},
   "outputs": [
    {
     "data": {
      "text/plain": [
       "\"\\n# One-hot encoding\\nfor c in ['Title','Sex','Ticket_Tpye']:\\n    combined = pd.concat([train_x[c], test_x[c]], axis=0)\\n    combined_dummies = pd.get_dummies(combined, prefix=c)\\n    \\n    train_x = train_x.join(combined_dummies[:len(train_x)])\\n    test_x = test_x.join(combined_dummies[len(train_x):])\\n\\n    train_x.drop(c, axis=1, inplace=True)\\n    test_x.drop(c, axis=1, inplace=True)\\n#\""
      ]
     },
     "execution_count": 37,
     "metadata": {},
     "output_type": "execute_result"
    }
   ],
   "source": [
    "\"\"\"\n",
    "# One-hot encoding\n",
    "for c in ['Title','Sex','Ticket_Tpye']:\n",
    "    combined = pd.concat([train_x[c], test_x[c]], axis=0)\n",
    "    combined_dummies = pd.get_dummies(combined, prefix=c)\n",
    "    \n",
    "    train_x = train_x.join(combined_dummies[:len(train_x)])\n",
    "    test_x = test_x.join(combined_dummies[len(train_x):])\n",
    "\n",
    "    train_x.drop(c, axis=1, inplace=True)\n",
    "    test_x.drop(c, axis=1, inplace=True)\n",
    "#\"\"\""
   ]
  },
  {
   "cell_type": "markdown",
   "metadata": {},
   "source": [
    "### label enocdingを行う"
   ]
  },
  {
   "cell_type": "code",
   "execution_count": 38,
   "metadata": {},
   "outputs": [],
   "source": [
    "from sklearn.preprocessing import LabelEncoder\n",
    "\n",
    "#for c in ['Embarked','Cabin_Deck']:\n",
    "for c in ['Embarked','Title','Sex','Ticket_Tpye','Cabin_Deck']:\n",
    "    #学習データをどう変換するかを決める\n",
    "    le = LabelEncoder()\n",
    "    le.fit(train_x[c].fillna('NA')) #欠損値の変換\n",
    "\n",
    "    train_x[c] = le.transform(train_x[c].fillna('NA'))\n",
    "    test_x[c] = le.transform(test_x[c].fillna('NA'))"
   ]
  },
  {
   "cell_type": "code",
   "execution_count": 39,
   "metadata": {},
   "outputs": [
    {
     "data": {
      "text/html": [
       "<div>\n",
       "<style scoped>\n",
       "    .dataframe tbody tr th:only-of-type {\n",
       "        vertical-align: middle;\n",
       "    }\n",
       "\n",
       "    .dataframe tbody tr th {\n",
       "        vertical-align: top;\n",
       "    }\n",
       "\n",
       "    .dataframe thead th {\n",
       "        text-align: right;\n",
       "    }\n",
       "</style>\n",
       "<table border=\"1\" class=\"dataframe\">\n",
       "  <thead>\n",
       "    <tr style=\"text-align: right;\">\n",
       "      <th></th>\n",
       "      <th>Pclass</th>\n",
       "      <th>Sex</th>\n",
       "      <th>Age</th>\n",
       "      <th>SibSp</th>\n",
       "      <th>Parch</th>\n",
       "      <th>Fare</th>\n",
       "      <th>Embarked</th>\n",
       "      <th>fare_zero</th>\n",
       "      <th>Cabin_Deck</th>\n",
       "      <th>Title</th>\n",
       "      <th>FamilySize</th>\n",
       "      <th>FarePerFamilyMember</th>\n",
       "      <th>Same_Name</th>\n",
       "      <th>Ticket_Tpye</th>\n",
       "      <th>Predict_Cabin</th>\n",
       "      <th>Age_missing</th>\n",
       "      <th>Predict_Age</th>\n",
       "      <th>Cabin_missing</th>\n",
       "      <th>LastName_length</th>\n",
       "      <th>LastName_first_char</th>\n",
       "    </tr>\n",
       "  </thead>\n",
       "  <tbody>\n",
       "    <tr>\n",
       "      <th>0</th>\n",
       "      <td>3</td>\n",
       "      <td>1</td>\n",
       "      <td>22.0</td>\n",
       "      <td>1</td>\n",
       "      <td>0</td>\n",
       "      <td>7.2500</td>\n",
       "      <td>3</td>\n",
       "      <td>0</td>\n",
       "      <td>7</td>\n",
       "      <td>2</td>\n",
       "      <td>2</td>\n",
       "      <td>3.62500</td>\n",
       "      <td>2</td>\n",
       "      <td>2</td>\n",
       "      <td>7</td>\n",
       "      <td>0</td>\n",
       "      <td>22.0</td>\n",
       "      <td>1</td>\n",
       "      <td>6</td>\n",
       "      <td>1</td>\n",
       "    </tr>\n",
       "    <tr>\n",
       "      <th>1</th>\n",
       "      <td>1</td>\n",
       "      <td>0</td>\n",
       "      <td>38.0</td>\n",
       "      <td>1</td>\n",
       "      <td>0</td>\n",
       "      <td>71.2833</td>\n",
       "      <td>0</td>\n",
       "      <td>0</td>\n",
       "      <td>2</td>\n",
       "      <td>3</td>\n",
       "      <td>2</td>\n",
       "      <td>35.64165</td>\n",
       "      <td>1</td>\n",
       "      <td>0</td>\n",
       "      <td>2</td>\n",
       "      <td>0</td>\n",
       "      <td>38.0</td>\n",
       "      <td>0</td>\n",
       "      <td>7</td>\n",
       "      <td>2</td>\n",
       "    </tr>\n",
       "    <tr>\n",
       "      <th>2</th>\n",
       "      <td>3</td>\n",
       "      <td>0</td>\n",
       "      <td>26.0</td>\n",
       "      <td>0</td>\n",
       "      <td>0</td>\n",
       "      <td>7.9250</td>\n",
       "      <td>3</td>\n",
       "      <td>0</td>\n",
       "      <td>7</td>\n",
       "      <td>1</td>\n",
       "      <td>1</td>\n",
       "      <td>7.92500</td>\n",
       "      <td>1</td>\n",
       "      <td>2</td>\n",
       "      <td>7</td>\n",
       "      <td>0</td>\n",
       "      <td>26.0</td>\n",
       "      <td>1</td>\n",
       "      <td>9</td>\n",
       "      <td>7</td>\n",
       "    </tr>\n",
       "    <tr>\n",
       "      <th>3</th>\n",
       "      <td>1</td>\n",
       "      <td>0</td>\n",
       "      <td>35.0</td>\n",
       "      <td>1</td>\n",
       "      <td>0</td>\n",
       "      <td>53.1000</td>\n",
       "      <td>3</td>\n",
       "      <td>0</td>\n",
       "      <td>2</td>\n",
       "      <td>3</td>\n",
       "      <td>2</td>\n",
       "      <td>26.55000</td>\n",
       "      <td>2</td>\n",
       "      <td>1</td>\n",
       "      <td>2</td>\n",
       "      <td>0</td>\n",
       "      <td>35.0</td>\n",
       "      <td>0</td>\n",
       "      <td>8</td>\n",
       "      <td>5</td>\n",
       "    </tr>\n",
       "    <tr>\n",
       "      <th>4</th>\n",
       "      <td>3</td>\n",
       "      <td>1</td>\n",
       "      <td>35.0</td>\n",
       "      <td>0</td>\n",
       "      <td>0</td>\n",
       "      <td>8.0500</td>\n",
       "      <td>3</td>\n",
       "      <td>0</td>\n",
       "      <td>7</td>\n",
       "      <td>2</td>\n",
       "      <td>1</td>\n",
       "      <td>8.05000</td>\n",
       "      <td>2</td>\n",
       "      <td>1</td>\n",
       "      <td>7</td>\n",
       "      <td>0</td>\n",
       "      <td>35.0</td>\n",
       "      <td>1</td>\n",
       "      <td>5</td>\n",
       "      <td>0</td>\n",
       "    </tr>\n",
       "  </tbody>\n",
       "</table>\n",
       "</div>"
      ],
      "text/plain": [
       "   Pclass  Sex   Age  SibSp  Parch     Fare  Embarked  fare_zero  Cabin_Deck  \\\n",
       "0       3    1  22.0      1      0   7.2500         3          0           7   \n",
       "1       1    0  38.0      1      0  71.2833         0          0           2   \n",
       "2       3    0  26.0      0      0   7.9250         3          0           7   \n",
       "3       1    0  35.0      1      0  53.1000         3          0           2   \n",
       "4       3    1  35.0      0      0   8.0500         3          0           7   \n",
       "\n",
       "   Title  FamilySize  FarePerFamilyMember  Same_Name  Ticket_Tpye  \\\n",
       "0      2           2              3.62500          2            2   \n",
       "1      3           2             35.64165          1            0   \n",
       "2      1           1              7.92500          1            2   \n",
       "3      3           2             26.55000          2            1   \n",
       "4      2           1              8.05000          2            1   \n",
       "\n",
       "   Predict_Cabin  Age_missing  Predict_Age  Cabin_missing  LastName_length  \\\n",
       "0              7            0         22.0              1                6   \n",
       "1              2            0         38.0              0                7   \n",
       "2              7            0         26.0              1                9   \n",
       "3              2            0         35.0              0                8   \n",
       "4              7            0         35.0              1                5   \n",
       "\n",
       "   LastName_first_char  \n",
       "0                    1  \n",
       "1                    2  \n",
       "2                    7  \n",
       "3                    5  \n",
       "4                    0  "
      ]
     },
     "execution_count": 39,
     "metadata": {},
     "output_type": "execute_result"
    }
   ],
   "source": [
    "train_x.head()"
   ]
  },
  {
   "cell_type": "code",
   "execution_count": 40,
   "metadata": {},
   "outputs": [
    {
     "name": "stdout",
     "output_type": "stream",
     "text": [
      "Fitting 3 folds for each of 663552 candidates, totalling 1990656 fits\n",
      "Best parameters for XGBoost: {'colsample_bytree': 1.0, 'gamma': 0.1, 'learning_rate': 0.2, 'max_delta_step': 1, 'max_depth': 7, 'min_child_weight': 5, 'n_estimators': 100, 'reg_alpha': 1, 'reg_lambda': 1, 'scale_pos_weight': 1, 'subsample': 0.9}\n",
      "Best accuracy for XGBoost: 0.8395061728395062\n"
     ]
    }
   ],
   "source": [
    "import numpy as np\n",
    "from sklearn.model_selection import GridSearchCV, StratifiedKFold\n",
    "from sklearn.linear_model import LogisticRegression\n",
    "from sklearn.metrics import accuracy_score\n",
    "import xgboost as xgb\n",
    "import lightgbm as lgb\n",
    "from sklearn.ensemble import RandomForestClassifier\n",
    "\n",
    "\n",
    "# XGBoostのパラメータ探索範囲（パラメータを追加）\n",
    "xgb_param_grid = {\n",
    "    'max_depth': [3, 5, 7, 9],\n",
    "    'learning_rate': [0.01, 0.1, 0.2, 0.3],\n",
    "    'n_estimators': [50, 100, 200, 300],\n",
    "    'subsample': [0.7, 0.8, 0.9, 1.0],\n",
    "    'colsample_bytree': [0.7, 0.8, 0.9, 1.0],\n",
    "    'gamma': [0, 0.1, 0.2, 0.3],\n",
    "    'min_child_weight': [1, 5, 10],\n",
    "    'max_delta_step': [0, 1, 2],\n",
    "    'scale_pos_weight': [1, 10],\n",
    "    'reg_alpha': [0, 0.1, 1],\n",
    "    'reg_lambda': [0.1, 1, 10]\n",
    "}\n",
    "\n",
    "# LightGBMのパラメータ探索範囲（パラメータを追加）\n",
    "lgb_param_grid = {\n",
    "    'max_depth': [3, 5, 7, 9],\n",
    "    'learning_rate': [0.01, 0.05, 0.1, 0.2],\n",
    "    'n_estimators': [50, 100, 200, 300],\n",
    "    'subsample': [0.7, 0.8, 0.9, 1.0],\n",
    "    'colsample_bytree': [0.7, 0.8, 0.9, 1.0],\n",
    "    'min_child_samples': [10, 20, 30],\n",
    "    'max_bin': [100, 200, 300],\n",
    "    'num_leaves': [31, 63, 127],\n",
    "    'lambda_l1': [0, 0.1, 1],\n",
    "    'lambda_l2': [0, 0.1, 1],\n",
    "    'min_split_gain': [0, 0.1, 0.2],\n",
    "    'boosting_type': ['gbdt', 'dart', 'goss']\n",
    "}\n",
    "\n",
    "# OOF予測を取得する関数\n",
    "def get_oof_predictions(model, X, y):\n",
    "    oof_preds = np.zeros(len(X))  # 予測値を格納する配列\n",
    "    skf = StratifiedKFold(n_splits=3, shuffle=True, random_state=42)  # StratifiedKFoldによる分割\n",
    "    \n",
    "    for train_idx, val_idx in skf.split(X, y):\n",
    "        X_train, X_val = X.iloc[train_idx], X.iloc[val_idx]\n",
    "        y_train, y_val = y.iloc[train_idx], y.iloc[val_idx]\n",
    "        \n",
    "        model.fit(X_train, y_train)  # モデルを訓練\n",
    "        oof_preds[val_idx] = model.predict(X_val)  # 検証データで予測し、OOF予測に格納\n",
    "        \n",
    "    return oof_preds\n",
    "\n",
    "# メタモデルを用いて最終予測を行う関数\n",
    "def get_final_predictions(meta_model, X, base_models):\n",
    "    base_preds = np.column_stack([model.predict(X) for model in base_models])  # ベースモデルの予測を列として結合\n",
    "    final_preds = meta_model.predict(base_preds)  # メタモデルによる最終予測\n",
    "    return final_preds\n",
    "\n",
    "# XGBoostの最適化\n",
    "xgb_model = xgb.XGBClassifier(eval_metric='mlogloss')\n",
    "xgb_grid_search = GridSearchCV(estimator=xgb_model, param_grid=xgb_param_grid, cv=3, verbose=1, n_jobs=-1, scoring='accuracy')\n",
    "xgb_grid_search.fit(train_x, train_y)\n",
    "\n",
    "# 最適なパラメータを表示\n",
    "print(\"Best parameters for XGBoost:\", xgb_grid_search.best_params_)\n",
    "print(\"Best accuracy for XGBoost:\", xgb_grid_search.best_score_)\n",
    "\n",
    "\n",
    "# LightGBMの最適化\n",
    "lgb_model = lgb.LGBMClassifier()\n",
    "lgb_grid_search = GridSearchCV(estimator=lgb_model, param_grid=lgb_param_grid, cv=3, verbose=1, n_jobs=-1, scoring='accuracy')\n",
    "lgb_grid_search.fit(train_x, train_y)\n",
    "\n",
    "# 最適なパラメータを表示\n",
    "print(\"Best parameters for LightGBM:\", lgb_grid_search.best_params_)\n",
    "print(\"Best accuracy for LightGBM:\", lgb_grid_search.best_score_)\n",
    "\n",
    "# 最適なパラメータでモデルを再訓練\n",
    "best_xgb_model = xgb_grid_search.best_estimator_\n",
    "best_lgb_model = lgb_grid_search.best_estimator_\n",
    "\n",
    "# 予測を行う\n",
    "xgb_oof_preds = get_oof_predictions(best_xgb_model, train_x, train_y)\n",
    "lgb_oof_preds = get_oof_predictions(best_lgb_model, train_x, train_y)\n",
    "\n",
    "# メタ特徴量を作成\n",
    "meta_features = np.vstack([xgb_oof_preds, lgb_oof_preds]).T\n",
    "\n",
    "# メタモデルの訓練\n",
    "meta_model = LogisticRegression()\n",
    "meta_model.fit(meta_features, train_y)\n",
    "\n",
    "# 最終予測を行う\n",
    "final_preds = get_final_predictions(meta_model, train_x, [best_xgb_model, best_lgb_model])\n",
    "\n",
    "# 精度を計測\n",
    "accuracy = accuracy_score(train_y, final_preds)\n",
    "print(f\"Accuracy of stacked model with tuned parameters: {accuracy:.4f}\")\n"
   ]
  },
  {
   "cell_type": "code",
   "execution_count": null,
   "metadata": {},
   "outputs": [
    {
     "name": "stdout",
     "output_type": "stream",
     "text": [
      "Final predictions on test data: [0 0 0 0 0 0 0 0 0 0 0 0 1 0 1 1 0 0 1 0 0 1 1 0 1 0 1 0 1 0 0 0 1 0 1 0 0\n",
      " 0 0 1 0 1 0 1 1 0 0 0 1 1 0 0 1 1 0 0 0 0 0 1 0 0 0 0 0 1 0 0 0 1 1 1 0 1\n",
      " 1 1 0 1 0 1 1 0 0 0 0 0 0 0 1 1 0 0 1 0 0 0 1 0 0 0 1 0 0 0 0 0 0 0 0 0 0\n",
      " 0 1 0 1 0 0 1 1 1 1 0 1 0 0 1 0 1 0 0 0 1 0 0 0 0 0 0 0 0 0 1 0 0 0 0 0 0\n",
      " 0 0 1 1 0 0 0 0 1 0 1 1 0 1 1 0 0 0 1 0 1 0 0 0 0 0 0 1 1 0 1 1 0 1 1 0 1\n",
      " 0 1 0 0 0 0 0 1 0 1 0 1 1 0 0 1 1 0 1 0 0 0 0 1 0 0 0 0 1 0 1 1 0 1 0 1 0\n",
      " 1 0 1 1 0 1 0 0 0 1 0 0 0 0 0 0 1 1 1 1 0 0 1 1 1 0 1 1 1 0 1 0 0 0 0 0 1\n",
      " 1 0 1 1 1 0 0 0 0 0 0 0 0 1 1 0 1 0 0 0 0 0 1 1 0 1 0 0 0 0 0 0 0 1 0 0 0\n",
      " 1 0 0 0 0 1 0 0 1 1 1 1 0 1 0 0 0 0 1 1 0 0 1 0 0 0 0 0 1 0 1 0 0 0 1 1 0\n",
      " 1 0 0 0 0 0 0 0 0 0 1 1 1 0 0 0 1 1 0 0 0 1 0 1 0 0 1 0 1 1 0 1 0 0 0 1 0\n",
      " 0 1 0 0 1 1 0 0 0 0 0 0 0 1 0 1 0 0 0 0 0 1 1 0 0 1 0 1 0 0 1 0 1 0 1 1 0\n",
      " 0 1 1 1 1 0 0 1 0 0 1]\n"
     ]
    }
   ],
   "source": [
    "# test_xに対する予測を行う\n",
    "xgb_test_preds = best_xgb_model.predict(test_x)\n",
    "lgb_test_preds = best_lgb_model.predict(test_x)\n",
    "\n",
    "# メタ特徴量を作成\n",
    "meta_test_features = np.column_stack([xgb_test_preds, lgb_test_preds])\n",
    "\n",
    "# メタモデルで最終予測を行う\n",
    "final_test_preds = meta_model.predict(meta_test_features)\n",
    "\n",
    "# 最終予測を表示（または保存）\n",
    "print(\"Final predictions on test data:\", final_test_preds)"
   ]
  },
  {
   "cell_type": "code",
   "execution_count": null,
   "metadata": {},
   "outputs": [],
   "source": [
    "best = pd.read_csv('submit/submission_fourth.csv')"
   ]
  },
  {
   "cell_type": "code",
   "execution_count": null,
   "metadata": {},
   "outputs": [
    {
     "name": "stdout",
     "output_type": "stream",
     "text": [
      "     PassengerId  Survived\n",
      "0            892         0\n",
      "1            893         0\n",
      "2            894         0\n",
      "3            895         0\n",
      "4            896         0\n",
      "..           ...       ...\n",
      "413         1305         0\n",
      "414         1306         1\n",
      "415         1307         0\n",
      "416         1308         0\n",
      "417         1309         1\n",
      "\n",
      "[418 rows x 2 columns]\n",
      "best['Survived']の1の数: 150\n",
      "予測結果pred_labelの1の数: 150\n",
      "一致している割合（精度）: 0.8708\n"
     ]
    }
   ],
   "source": [
    "from sklearn.metrics import accuracy_score\n",
    "\n",
    "# 提出用ファイルの作成\n",
    "submission = pd.DataFrame({\n",
    "    'PassengerId': test['PassengerId'], \n",
    "    'Survived': final_test_preds\n",
    "})\n",
    "\n",
    "# 出力確認\n",
    "print(submission)\n",
    "\n",
    "# best['Survived']とpred_labelの1の数を比較\n",
    "print(\"best['Survived']の1の数:\", best['Survived'].sum())\n",
    "print(\"予測結果pred_labelの1の数:\", final_test_preds.sum())\n",
    "\n",
    "accuracy = accuracy_score(best['Survived'], final_test_preds)\n",
    "print(f\"一致している割合（精度）: {accuracy:.4f}\")"
   ]
  },
  {
   "cell_type": "code",
   "execution_count": null,
   "metadata": {},
   "outputs": [],
   "source": [
    "# 提出用ファイルの保存（例: 'submission.csv'）\n",
    "submission.to_csv('submit/submission_24.csv', index=False)"
   ]
  },
  {
   "cell_type": "code",
   "execution_count": null,
   "metadata": {},
   "outputs": [],
   "source": []
  },
  {
   "cell_type": "code",
   "execution_count": null,
   "metadata": {},
   "outputs": [],
   "source": []
  },
  {
   "cell_type": "code",
   "execution_count": null,
   "metadata": {},
   "outputs": [],
   "source": []
  }
 ],
 "metadata": {
  "kernelspec": {
   "display_name": "Python 3",
   "language": "python",
   "name": "python3"
  },
  "language_info": {
   "codemirror_mode": {
    "name": "ipython",
    "version": 3
   },
   "file_extension": ".py",
   "mimetype": "text/x-python",
   "name": "python",
   "nbconvert_exporter": "python",
   "pygments_lexer": "ipython3",
   "version": "3.12.6"
  }
 },
 "nbformat": 4,
 "nbformat_minor": 2
}
